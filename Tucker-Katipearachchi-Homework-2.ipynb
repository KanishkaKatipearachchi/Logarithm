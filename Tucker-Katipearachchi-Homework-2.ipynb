{
 "cells": [
  {
   "cell_type": "markdown",
   "metadata": {},
   "source": [
    "# The Interval Class"
   ]
  },
  {
   "cell_type": "code",
   "execution_count": 1,
   "metadata": {},
   "outputs": [],
   "source": [
    "import matplotlib.pyplot as plt\n",
    "import numpy as np"
   ]
  },
  {
   "cell_type": "markdown",
   "metadata": {},
   "source": [
    "## Helper Functions\n",
    "\n",
    "We start with two functions used commonly in the operations of the Inverval class:"
   ]
  },
  {
   "cell_type": "code",
   "execution_count": 2,
   "metadata": {},
   "outputs": [],
   "source": [
    "def as_interval(x):\n",
    "    \"\"\"\n",
    "    Returns x, inputted as either a number or an interval, as an interval.\n",
    "    If x is an interval the function returns just x. \n",
    "    \"\"\"\n",
    "    if isinstance(x, Interval):\n",
    "        return x\n",
    "    return Interval(x)\n",
    "\n",
    "def is_number(x):\n",
    "    \"\"\"\n",
    "    Given a data value, returns True if it is of type float or int, False otherwise.\n",
    "    \"\"\"\n",
    "    return isinstance(x, int) or isinstance(x, float)"
   ]
  },
  {
   "cell_type": "markdown",
   "metadata": {},
   "source": [
    "## The Class Definition\n",
    "\n",
    "Next we move on to the class definition. This includes all of the operator overloads as they are defined. "
   ]
  },
  {
   "cell_type": "code",
   "execution_count": 4,
   "metadata": {},
   "outputs": [],
   "source": [
    "class Interval():\n",
    "    \"\"\"\n",
    "    A class representing a closed interval of real numbers.\n",
    "    This class can undergo arithmetic operations with other intervals,\n",
    "    and of real numbers, where a real number n is represented as [n, n].\n",
    "    \"\"\"\n",
    "    def __init__(self, *args):\n",
    "        \"\"\"\n",
    "        Initializes an interval\n",
    "        Given one numeric parameter\n",
    "        \"\"\"\n",
    "        self.left = args[0]\n",
    "        if len(args) > 1:\n",
    "            self.right = args[1]\n",
    "        else:\n",
    "            self.right = args[0]\n",
    "        if not is_number(self.left) or not is_number(self.right):\n",
    "            raise ValueError(\"arguments must be numbers\")\n",
    "\n",
    "    def __add__(self, other):\n",
    "        \"\"\"\n",
    "        Adds this interval to another interval\n",
    "        \"\"\"\n",
    "        other = as_interval(other)\n",
    "        return Interval(self.left + other.left, self.right + other.right)\n",
    "\n",
    "    def __radd__(self, other):\n",
    "        \"\"\"\n",
    "        The reverse order of the add method\n",
    "        Addition of intervals is commutative\n",
    "        \"\"\"\n",
    "        return self + other\n",
    "\n",
    "    def __sub__(self, other):\n",
    "        \"\"\"\n",
    "        Subtracts another interval from this interval\n",
    "        \"\"\"\n",
    "        other = as_interval(other)\n",
    "        return Interval(self.left - other.right, self.right - other.left)\n",
    "    \n",
    "    def __rsub__(self, other):\n",
    "        \"\"\"\n",
    "        Subtracts this interval from another interval\n",
    "        \"\"\"\n",
    "        return as_interval(other) - self\n",
    "\n",
    "    def __mul__(self, other):\n",
    "        \"\"\"\n",
    "        Multiplies this interval with another interval\n",
    "        \"\"\"\n",
    "        other = as_interval(other)\n",
    "        combinations = [self.left * other.left, self.left * other.right, self.right * other.left, self.right * other.right]\n",
    "        return Interval(min(combinations), max(combinations))\n",
    "\n",
    "    def __rmul__(self, other):\n",
    "        \"\"\"\n",
    "        Multiplies another interval with this interval\n",
    "        Multiplication commutes\n",
    "        \"\"\"\n",
    "        return self * other\n",
    "\n",
    "    def __div__(self, other):\n",
    "        \"\"\"\n",
    "        Divides this interval by another interval\n",
    "        \"\"\"\n",
    "        other = as_interval(other)\n",
    "        combinations = [self.left / other.left, self.left / other.right, self.right / other.left, self.right / other.right]\n",
    "        return Interval(min(combinations), max(combinations))\n",
    "\n",
    "    def __pow__(self, power):\n",
    "        \"\"\"\n",
    "        Takes this interval to an integer power\n",
    "        \"\"\"\n",
    "        if type(power) != int:\n",
    "            raise ValueError(\"power must be an integer\")\n",
    "        if power % 2 == 0:\n",
    "            if self.left >= 0:\n",
    "                return Interval(self.left**power, self.right**power)\n",
    "            elif self.right < 0:\n",
    "                return Interval(self.right**power, self.left**power)\n",
    "            else:\n",
    "                return Interval(0, max([self.right**power, self.left**power]))\n",
    "        return Interval(self.left**power, self.right**power)\n",
    "\n",
    "    def __contains__(self, item):\n",
    "        \"\"\"\n",
    "        Returns whetehr or not the given item lies within the bounds of the interval\n",
    "        \"\"\"\n",
    "        if not is_number(item):\n",
    "            raise ValueError(\"Item must be a number\")\n",
    "        return item >= self.left and item <= self.right\n",
    "\n",
    "    def __str__(self):\n",
    "        \"\"\"\n",
    "        Returns a string representation of the interval\n",
    "        \"\"\"\n",
    "        return \"[%s, %s]\" % (self.left, self.right)\n"
   ]
  },
  {
   "cell_type": "markdown",
   "metadata": {},
   "source": [
    "## Testing the Implementation\n",
    "\n",
    "Now we test the implementation to see that we have the ideal behavior when performing operations."
   ]
  },
  {
   "cell_type": "code",
   "execution_count": 5,
   "metadata": {},
   "outputs": [
    {
     "name": "stdout",
     "output_type": "stream",
     "text": [
      "[1, 4]\n",
      "[-2, -1]\n",
      "[2, 3]\n",
      "[-2, 2]\n",
      "[-1, 3]\n",
      "[2, 6]\n",
      "[-8, -1]\n",
      "[-4, -1]\n",
      "[3, 4]\n",
      "[3, 4]\n",
      "[1, 2]\n",
      "[-2, -1]\n",
      "[2, 3]\n",
      "[2, 3]\n",
      "[0, 4]\n",
      "[-8, 8]\n",
      "True\n",
      "False\n"
     ]
    }
   ],
   "source": [
    "i1 = Interval(1, 4)\n",
    "i2 = Interval(-2, -1)\n",
    "i3 = Interval(2, 3)\n",
    "i4 = Interval(-2, 2)\n",
    "#Testing the string representation\n",
    "print(i1)\n",
    "print(i2)\n",
    "print(i3)\n",
    "print(i4)\n",
    "#Testing the arithmetic operations\n",
    "print(i1 + i2)\n",
    "print(i1 - i2)\n",
    "print(i1 * i2)\n",
    "print(i1 / i2)\n",
    "#Testing both directions of operation\n",
    "print(i3 + 1)\n",
    "print(1 + i3)\n",
    "print(i3 - 1)\n",
    "print(1 - i3)\n",
    "print(i3 * 1)\n",
    "print(1 * i3)\n",
    "#Testing the power function\n",
    "print(i4**2)\n",
    "print(i4**3)\n",
    "#Testing the contains functionality\n",
    "print(3 in i1)\n",
    "print(5 in i1)"
   ]
  },
  {
   "cell_type": "markdown",
   "metadata": {},
   "source": [
    "## Plotting a Polynomial\n",
    "\n",
    "Now we will plot the results of a polynomial function of an interval, given below. We will plots this with a series of intervals given by [x, x + 0.5] for x between 0 and 1. "
   ]
  },
  {
   "cell_type": "code",
   "execution_count": 6,
   "metadata": {},
   "outputs": [
    {
     "data": {
      "text/plain": [
       "[<matplotlib.lines.Line2D at 0x11fef4cd0>]"
      ]
     },
     "execution_count": 6,
     "metadata": {},
     "output_type": "execute_result"
    },
    {
     "data": {
      "image/png": "[encoded data removed]",
      "text/plain": [
       "<Figure size 432x288 with 1 Axes>"
      ]
     },
     "metadata": {
      "needs_background": "light"
     },
     "output_type": "display_data"
    }
   ],
   "source": [
    "def p(i):\n",
    "    \"\"\"\n",
    "    The interval polynomial defined in the problem description.\n",
    "    Returns an interval resulting from the interval parameter.\n",
    "    \"\"\"\n",
    "    return 3 * i**3 - 2 * i**2 - 5 * i - 1\n",
    "\n",
    "#Plotting\n",
    "x = np.linspace(0.0, 1, 1000)\n",
    "y_intervals = [p(Interval(x[i], x[i] + 0.5)) for i in range(len(x))]\n",
    "y_lower = [i.left for i in y_intervals]\n",
    "y_upper = [i.right for i in y_intervals]\n",
    "#Labels\n",
    "plt.xlabel(\"x\")\n",
    "plt.ylabel(\"p(I)\")\n",
    "plt.title(\"$p(I) = 3I^3 - 2I^2 - 5I - 1$, I = Interval(x, x + 0.5)\")\n",
    "#Plot the lower and upper bounds\n",
    "plt.plot(x, y_lower)\n",
    "plt.plot(x, y_upper)"
   ]
  },
  {
   "cell_type": "code",
   "execution_count": null,
   "metadata": {},
   "outputs": [],
   "source": []
  }
 ],
 "metadata": {
  "kernelspec": {
   "display_name": "Python 2",
   "language": "python",
   "name": "python2"
  },
  "language_info": {
   "codemirror_mode": {
    "name": "ipython",
    "version": 2
   },
   "file_extension": ".py",
   "mimetype": "text/x-python",
   "name": "python",
   "nbconvert_exporter": "python",
   "pygments_lexer": "ipython2",
   "version": "2.7.16"
  }
 },
 "nbformat": 4,
 "nbformat_minor": 2
}
